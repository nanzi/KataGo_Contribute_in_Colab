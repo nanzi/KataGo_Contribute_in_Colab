{
  "nbformat": 4,
  "nbformat_minor": 0,
  "metadata": {
    "colab": {
      "provenance": []
    },
    "kernelspec": {
      "name": "python3",
      "display_name": "Python 3"
    },
    "language_info": {
      "name": "python"
    },
    "accelerator": "GPU",
    "gpuClass": "standard"
  },
  "cells": [
    {
      "cell_type": "code",
      "execution_count": null,
      "metadata": {
        "id": "TieqYUmqu5M-"
      },
      "outputs": [],
      "source": [
        "!nvidia-smi -L"
      ]
    },
    {
      "cell_type": "code",
      "source": [
        "# 设置变量，并将其设置为环境变量\n",
        "username='USERNAME'\n",
        "%env username=$username\n",
        "\n",
        "password='PASSWORD'\n",
        "%env password=$password\n",
        "\n",
        "maxSimultaneousGames='6'\n",
        "%env maxSimultaneousGames=$maxSimultaneousGames\n",
        "\n",
        "# 安装依赖项和下载KataGo\n",
        "!sudo apt-get install libzip5 libzip-dev \n",
        "!wget -q https://github.com/lightvector/KataGo/releases/download/v1.12.4/katago-v1.12.4-cuda11.1-linux-x64.zip -O /content/katago.zip\n",
        "!cd /content && unzip katago.zip\n",
        "\n",
        "# 修改配置文件\n",
        "!cd /content && cp contribute_example.cfg contribute.cfg\n",
        "!cd /content && sed -i 's/test.katagodistributed.org/katagotraining.org/g' contribute.cfg\n",
        "!cd /content && sed -i \"s/username = Fill in your username here/  username = $username/g\" contribute.cfg\n",
        "!cd /content && sed -i \"s/password = Fill in your password here/  password = $password/g\" contribute.cfg\n",
        "!cd /content && sed -i \"s/maxSimultaneousGames = Fill in a number here/  maxSimultaneousGames = $maxSimultaneousGames/g\" contribute.cfg\n",
        "\n",
        "!/content/katago contribute -config /content/contribute.cfg -cacerts /content/cacert.pem"
      ],
      "metadata": {
        "id": "3J0-HCIHu66j"
      },
      "execution_count": null,
      "outputs": []
    }
  ]
}

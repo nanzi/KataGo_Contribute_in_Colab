{
  "nbformat": 4,
  "nbformat_minor": 0,
  "metadata": {
    "colab": {
      "provenance": []
    },
    "kernelspec": {
      "name": "python3",
      "display_name": "Python 3"
    },
    "language_info": {
      "name": "python"
    },
    "accelerator": "GPU",
    "gpuClass": "standard"
  },
  "cells": [
    {
      "cell_type": "code",
      "execution_count": null,
      "metadata": {
        "id": "BdPy9THazWYJ"
      },
      "outputs": [],
      "source": [
        "!nvidia-smi -L"
      ]
    },
    {
      "cell_type": "code",
      "source": [
        "!sudo apt-get install libzip5 libzip-dev \n",
        "!wget -q https://github.com/lightvector/KataGo/releases/download/v1.12.4/katago-v1.12.4-cuda11.1-linux-x64.zip -O /content/katago.zip\n",
        "!cd /content && unzip katago.zip\n",
        "\n",
        "!cp /content/contribute_example.cfg /content/contribute.cfg\n",
        "!cd /content/ && sed -i 's/test.katagodistributed.org/katagotraining.org/g' contribute.cfg\n",
        "!cd /content/ && sed -i 's/username = Fill in your username here/username = George/g' contribute.cfg\n",
        "!cd /content/ && sed -i 's/password = Fill in your password here/password = nanuibe37/g' contribute.cfg\n",
        "!cd /content/ && sed -i 's/maxSimultaneousGames = Fill in a number here/maxSimultaneousGames = 6/g' contribute.cfg\n",
        "# onlyPlayRatingMatches = false\n",
        "#!cd /content/ && sed -i 's/# onlyPlayRatingMatches = false/onlyPlayRatingMatches = true/g' contribute.cfg\n",
        "!/content/katago contribute -config /content/contribute.cfg -cacerts /content/cacert.pem"
      ],
      "metadata": {
        "id": "iTMbBulXZfwF"
      },
      "execution_count": null,
      "outputs": []
    }
  ]
}

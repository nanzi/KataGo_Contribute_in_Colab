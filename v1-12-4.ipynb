{
  "nbformat": 4,
  "nbformat_minor": 0,
  "metadata": {
    "colab": {
      "provenance": []
    },
    "kernelspec": {
      "name": "python3",
      "display_name": "Python 3"
    },
    "language_info": {
      "name": "python"
    },
    "accelerator": "GPU",
    "gpuClass": "standard"
  },
  "cells": [
    {
      "cell_type": "code",
      "execution_count": null,
      "metadata": {
        "id": "TieqYUmqu5M-"
      },
      "outputs": [],
      "source": [
        "!nvidia-smi -L"
      ]
    },
    {
      "cell_type": "code",
      "source": [
        "# 设置变量，并将其设置为环境变量\n",
        "username='USERNAME'\n",
        "password='PASSWORD'\n",
        "maxSimultaneousGames='12'\n",
        "ktgd='ktgdcolab'\n",
        "\n",
        "# 安装依赖项和下载KataGo\n",
        "!sudo apt-get install libzip5 libzip-dev \n",
        "!rm -rf /content/katago.zip && rm -rf /content/katago\n",
        "!wget -q https://github.com/lightvector/KataGo/releases/download/v1.12.4/katago-v1.12.4-cuda11.1-linux-x64.zip -O /content/katago.zip\n",
        "!cd /content && unzip katago.zip -d $ktgd\n",
        "\n",
        "# 修改配置文件\n",
        "!cd /content/$ktgd && cp contribute_example.cfg contribute.cfg\n",
        "!cd /content/$ktgd && sed -i 's/test.katagodistributed.org/katagotraining.org/g' contribute.cfg\n",
        "!cd /content/$ktgd && sed -i \"s/username = Fill in your username here/  username = $username/g\" contribute.cfg\n",
        "!cd /content/$ktgd && sed -i \"s/password = Fill in your password here/  password = $password/g\" contribute.cfg\n",
        "!cd /content/$ktgd && sed -i \"s/maxSimultaneousGames = Fill in a number here/  maxSimultaneousGames = $maxSimultaneousGames/g\" contribute.cfg\n",
        "# onlyPlayRatingMatches = false\n",
        "#!cd /content/$ktgd && sed -i 's/# onlyPlayRatingMatches = false/onlyPlayRatingMatches = true/g' contribute.cfg\n",
        "# maxRatingMatches = 0\n",
        "!cd /content/$ktgd/katago && sed -i 's/# maxRatingMatches = 1/maxRatingMatches = 0/g' contribute.cfg\n",
        "\n",
        "!/content/$ktgd/katago contribute -config /content/$ktgd/contribute.cfg -cacerts /content/$ktgd/cacert.pem"
      ],
      "metadata": {
        "id": "3J0-HCIHu66j"
      },
      "execution_count": null,
      "outputs": []
    }
  ]
}

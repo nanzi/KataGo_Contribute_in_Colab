{
  "nbformat": 4,
  "nbformat_minor": 0,
  "metadata": {
    "colab": {
      "provenance": []
    },
    "kernelspec": {
      "name": "python3",
      "display_name": "Python 3"
    },
    "language_info": {
      "name": "python"
    },
    "accelerator": "GPU",
    "gpuClass": "standard"
  },
  "cells": [
    {
      "cell_type": "code",
      "execution_count": null,
      "metadata": {
        "id": "TCQflI_hpvZS"
      },
      "outputs": [],
      "source": [
        "!nvidia-smi -L"
      ]
    },
    {
      "cell_type": "code",
      "source": [
        "# 设置变量，并将其设置为环境变量\n",
        "username='USERNAME'\n",
        "password='PASSWORD'\n",
        "maxSimultaneousGames='12'\n",
        "ktgd='ktgdcolab'\n",
        "\n",
        "# 安装依赖项和下载KataGo\n",
        "!sudo apt-get install libzip5 libzip-dev \n",
        "!rm -rf /content/katago.zip && rm -rf /content/$ktgd && rm -rf /content/contribute.cfg && rm -rf /content/cacert.pem\n",
        "!wget -q https://github.com/lightvector/KataGo/releases/download/v1.12.4/katago-v1.12.4-cuda11.1-linux-x64.zip -O /content/katago.zip\n",
        "!cd /content && unzip katago.zip -d $ktgd\n",
        "\n",
        "# 修改配置文件\n",
        "!cp /content/$ktgd/contribute_example.cfg /content/contribute.cfg\n",
        "#\n",
        "!cp /content/$ktgd/cacert.pem /content/cacert.pem\n",
        "#\n",
        "!sed -i 's/test.katagodistributed.org/katagotraining.org/g' /content/contribute.cfg\n",
        "!sed -i \"s/username = Fill in your username here/  username = $username/g\" /content/contribute.cfg\n",
        "!sed -i \"s/password = Fill in your password here/  password = $password/g\" /content/contribute.cfg\n",
        "!sed -i \"s/maxSimultaneousGames = Fill in a number here/  maxSimultaneousGames = $maxSimultaneousGames/g\" /content/contribute.cfg\n",
        "# onlyPlayRatingMatches = false\n",
        "#!sed -i 's/# onlyPlayRatingMatches = false/onlyPlayRatingMatches = true/g' /content/contribute.cfg\n",
        "# maxRatingMatches = 0\n",
        "!sed -i 's/# maxRatingMatches = 1/maxRatingMatches = 0/g' /content/contribute.cfg\n",
        "\n",
        "!/content/$ktgd/katago contribute -config /content/contribute.cfg -cacerts /content/cacert.pem"
      ],
      "metadata": {
        "id": "TC8kFWd8p4Dd"
      },
      "execution_count": null,
      "outputs": []
    }
  ]
}
